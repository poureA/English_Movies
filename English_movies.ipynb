{
 "cells": [
  {
   "cell_type": "markdown",
   "id": "c7b6f752",
   "metadata": {},
   "source": [
    "Predicting average vote per movie by reviews."
   ]
  },
  {
   "cell_type": "code",
   "execution_count": 86,
   "id": "06426d46",
   "metadata": {},
   "outputs": [],
   "source": [
    "#Importing needed modules.\n",
    "from pandas import read_csv\n",
    "import numpy as np\n",
    "import matplotlib.pyplot as plt\n",
    "from sklearn.model_selection import train_test_split\n",
    "from tensorflow.keras import layers , models\n",
    "from tensorflow.keras.preprocessing.text import Tokenizer\n",
    "from tensorflow.keras.preprocessing.sequence import pad_sequences\n",
    "from tensorflow.keras.callbacks import Callback\n",
    "#Instancing from 'Tokenizer' object.\n",
    "tokenizer = Tokenizer(oov_token='<00U00>')"
   ]
  },
  {
   "cell_type": "code",
   "execution_count": 87,
   "id": "bec9456a",
   "metadata": {},
   "outputs": [
    {
     "data": {
      "text/html": [
       "<div>\n",
       "<style scoped>\n",
       "    .dataframe tbody tr th:only-of-type {\n",
       "        vertical-align: middle;\n",
       "    }\n",
       "\n",
       "    .dataframe tbody tr th {\n",
       "        vertical-align: top;\n",
       "    }\n",
       "\n",
       "    .dataframe thead th {\n",
       "        text-align: right;\n",
       "    }\n",
       "</style>\n",
       "<table border=\"1\" class=\"dataframe\">\n",
       "  <thead>\n",
       "    <tr style=\"text-align: right;\">\n",
       "      <th></th>\n",
       "      <th>title</th>\n",
       "      <th>overview</th>\n",
       "      <th>release_date</th>\n",
       "      <th>genres</th>\n",
       "      <th>popularity</th>\n",
       "      <th>vote_average</th>\n",
       "      <th>vote_count</th>\n",
       "    </tr>\n",
       "  </thead>\n",
       "  <tbody>\n",
       "    <tr>\n",
       "      <th>1703</th>\n",
       "      <td>House of Gucci</td>\n",
       "      <td>When Patrizia Reggiani, an outsider from humbl...</td>\n",
       "      <td>2021-11-24</td>\n",
       "      <td>Drama, Crime, History</td>\n",
       "      <td>32.792</td>\n",
       "      <td>6.6</td>\n",
       "      <td>2687</td>\n",
       "    </tr>\n",
       "    <tr>\n",
       "      <th>9886</th>\n",
       "      <td>There's a Girl in My Soup</td>\n",
       "      <td>TV personality Robert Danvers, an exceedingly ...</td>\n",
       "      <td>1970-12-15</td>\n",
       "      <td>Comedy, Romance</td>\n",
       "      <td>7.948</td>\n",
       "      <td>5.6</td>\n",
       "      <td>42</td>\n",
       "    </tr>\n",
       "    <tr>\n",
       "      <th>9395</th>\n",
       "      <td>Pirates</td>\n",
       "      <td>Captain Red runs a hardy pirate ship with the ...</td>\n",
       "      <td>1986-05-08</td>\n",
       "      <td>Adventure, Comedy</td>\n",
       "      <td>9.530</td>\n",
       "      <td>6.2</td>\n",
       "      <td>223</td>\n",
       "    </tr>\n",
       "    <tr>\n",
       "      <th>1198</th>\n",
       "      <td>Batman Returns</td>\n",
       "      <td>While Batman deals with a deformed man calling...</td>\n",
       "      <td>1992-06-19</td>\n",
       "      <td>Action, Fantasy</td>\n",
       "      <td>40.960</td>\n",
       "      <td>6.9</td>\n",
       "      <td>5866</td>\n",
       "    </tr>\n",
       "    <tr>\n",
       "      <th>3459</th>\n",
       "      <td>Punisher: War Zone</td>\n",
       "      <td>Waging his one-man war on the world of organiz...</td>\n",
       "      <td>2008-12-05</td>\n",
       "      <td>Action, Crime</td>\n",
       "      <td>20.856</td>\n",
       "      <td>5.8</td>\n",
       "      <td>1015</td>\n",
       "    </tr>\n",
       "    <tr>\n",
       "      <th>8588</th>\n",
       "      <td>Play Misty for Me</td>\n",
       "      <td>A brief fling between a male disc jockey and a...</td>\n",
       "      <td>1971-10-01</td>\n",
       "      <td>Drama, Thriller</td>\n",
       "      <td>10.979</td>\n",
       "      <td>6.6</td>\n",
       "      <td>419</td>\n",
       "    </tr>\n",
       "    <tr>\n",
       "      <th>2665</th>\n",
       "      <td>The Hip Hop Nutcracker</td>\n",
       "      <td>Features Rev Run as he brings audiences on a h...</td>\n",
       "      <td>2022-11-25</td>\n",
       "      <td>Music, Comedy, Family</td>\n",
       "      <td>24.651</td>\n",
       "      <td>5.4</td>\n",
       "      <td>18</td>\n",
       "    </tr>\n",
       "    <tr>\n",
       "      <th>6123</th>\n",
       "      <td>Sorcerer</td>\n",
       "      <td>Four men from different parts of the globe, al...</td>\n",
       "      <td>1977-06-24</td>\n",
       "      <td>Adventure, Thriller</td>\n",
       "      <td>14.522</td>\n",
       "      <td>7.4</td>\n",
       "      <td>402</td>\n",
       "    </tr>\n",
       "    <tr>\n",
       "      <th>8388</th>\n",
       "      <td>Zoo</td>\n",
       "      <td>Young Tom and his misfit friends fight to save...</td>\n",
       "      <td>2018-06-08</td>\n",
       "      <td>Family, War, History</td>\n",
       "      <td>11.262</td>\n",
       "      <td>6.7</td>\n",
       "      <td>93</td>\n",
       "    </tr>\n",
       "    <tr>\n",
       "      <th>992</th>\n",
       "      <td>The Thing</td>\n",
       "      <td>A team of American scientists investigate the ...</td>\n",
       "      <td>1982-06-25</td>\n",
       "      <td>Horror, Mystery, Science Fiction</td>\n",
       "      <td>45.805</td>\n",
       "      <td>8.0</td>\n",
       "      <td>6104</td>\n",
       "    </tr>\n",
       "  </tbody>\n",
       "</table>\n",
       "</div>"
      ],
      "text/plain": [
       "                          title  \\\n",
       "1703             House of Gucci   \n",
       "9886  There's a Girl in My Soup   \n",
       "9395                    Pirates   \n",
       "1198             Batman Returns   \n",
       "3459         Punisher: War Zone   \n",
       "8588          Play Misty for Me   \n",
       "2665     The Hip Hop Nutcracker   \n",
       "6123                   Sorcerer   \n",
       "8388                        Zoo   \n",
       "992                   The Thing   \n",
       "\n",
       "                                               overview release_date  \\\n",
       "1703  When Patrizia Reggiani, an outsider from humbl...   2021-11-24   \n",
       "9886  TV personality Robert Danvers, an exceedingly ...   1970-12-15   \n",
       "9395  Captain Red runs a hardy pirate ship with the ...   1986-05-08   \n",
       "1198  While Batman deals with a deformed man calling...   1992-06-19   \n",
       "3459  Waging his one-man war on the world of organiz...   2008-12-05   \n",
       "8588  A brief fling between a male disc jockey and a...   1971-10-01   \n",
       "2665  Features Rev Run as he brings audiences on a h...   2022-11-25   \n",
       "6123  Four men from different parts of the globe, al...   1977-06-24   \n",
       "8388  Young Tom and his misfit friends fight to save...   2018-06-08   \n",
       "992   A team of American scientists investigate the ...   1982-06-25   \n",
       "\n",
       "                                genres  popularity  vote_average  vote_count  \n",
       "1703             Drama, Crime, History      32.792           6.6        2687  \n",
       "9886                   Comedy, Romance       7.948           5.6          42  \n",
       "9395                 Adventure, Comedy       9.530           6.2         223  \n",
       "1198                   Action, Fantasy      40.960           6.9        5866  \n",
       "3459                     Action, Crime      20.856           5.8        1015  \n",
       "8588                   Drama, Thriller      10.979           6.6         419  \n",
       "2665             Music, Comedy, Family      24.651           5.4          18  \n",
       "6123               Adventure, Thriller      14.522           7.4         402  \n",
       "8388              Family, War, History      11.262           6.7          93  \n",
       "992   Horror, Mystery, Science Fiction      45.805           8.0        6104  "
      ]
     },
     "execution_count": 87,
     "metadata": {},
     "output_type": "execute_result"
    }
   ],
   "source": [
    "#Reading csv file and getting 10 sample of that randomly.\n",
    "path = \"D:\\\\datasets\\\\Englis_movies\\\\english_movies.csv\"\n",
    "file = read_csv(path)\n",
    "df = file.copy()\n",
    "df.sample(10)"
   ]
  },
  {
   "cell_type": "code",
   "execution_count": 88,
   "id": "4d74eb90",
   "metadata": {},
   "outputs": [
    {
     "name": "stdout",
     "output_type": "stream",
     "text": [
      "<class 'pandas.core.frame.DataFrame'>\n",
      "Int64Index: 9959 entries, 0 to 9999\n",
      "Data columns (total 7 columns):\n",
      " #   Column        Non-Null Count  Dtype  \n",
      "---  ------        --------------  -----  \n",
      " 0   title         9959 non-null   object \n",
      " 1   overview      9959 non-null   object \n",
      " 2   release_date  9959 non-null   object \n",
      " 3   genres        9959 non-null   object \n",
      " 4   popularity    9959 non-null   float64\n",
      " 5   vote_average  9959 non-null   float64\n",
      " 6   vote_count    9959 non-null   int64  \n",
      "dtypes: float64(2), int64(1), object(4)\n",
      "memory usage: 622.4+ KB\n"
     ]
    }
   ],
   "source": [
    "#Droping null samples.\n",
    "df = df.dropna()\n",
    "#Getting information from data frame.\n",
    "df.info()"
   ]
  },
  {
   "cell_type": "code",
   "execution_count": 89,
   "id": "3ee9419b",
   "metadata": {},
   "outputs": [
    {
     "data": {
      "text/plain": [
       "count    9959.000000\n",
       "mean        6.306697\n",
       "std         1.167903\n",
       "min         0.000000\n",
       "25%         5.900000\n",
       "50%         6.400000\n",
       "75%         7.000000\n",
       "max        10.000000\n",
       "Name: vote_average, dtype: float64"
      ]
     },
     "execution_count": 89,
     "metadata": {},
     "output_type": "execute_result"
    }
   ],
   "source": [
    "df.vote_average.describe()"
   ]
  },
  {
   "cell_type": "code",
   "execution_count": 90,
   "id": "c6fa1d8d",
   "metadata": {},
   "outputs": [],
   "source": [
    "#Creating a function to remove stop words from each text.\n",
    "def filter(text)->None:\n",
    "    '''function doctrsing'''\n",
    "    stopwords = [\"a\", \"about\", \"above\", \"after\", \"again\", \"against\", \"all\", \"am\", \"an\", \"and\", \"any\", \"are\", \"as\", \"at\", \"be\", \"because\", \"been\", \"before\", \"being\", \"below\", \"between\", \"both\", \"but\", \"by\", \"could\", \"did\", \"do\", \"does\", \"doing\", \"down\", \"during\", \"each\", \"few\", \"for\", \"from\", \"further\", \"had\", \"has\", \"have\", \"having\", \"he\", \"he'd\", \"he'll\", \"he's\", \"her\", \"here\", \"here's\", \"hers\", \"herself\", \"him\", \"himself\", \"his\", \"how\", \"how's\", \"i\", \"i'd\", \"i'll\", \"i'm\", \"i've\", \"if\", \"in\", \"into\", \"is\", \"it\", \"it's\", \"its\", \"itself\", \"let's\", \"me\", \"more\", \"most\", \"my\", \"myself\", \"nor\", \"of\", \"on\", \"once\", \"only\", \"or\", \"other\", \"ought\", \"our\", \"ours\", \"ourselves\", \"out\", \"over\", \"own\", \"same\", \"she\", \"she'd\", \"she'll\", \"she's\", \"should\", \"so\", \"some\", \"such\", \"than\", \"that\", \"that's\", \"the\", \"their\", \"theirs\", \"them\", \"themselves\", \"then\", \"there\", \"there's\", \"these\", \"they\", \"they'd\", \"they'll\", \"they're\", \"they've\", \"this\", \"those\", \"through\", \"to\", \"too\", \"under\", \"until\", \"up\", \"very\", \"was\", \"we\", \"we'd\", \"we'll\", \"we're\", \"we've\", \"were\", \"what\", \"what's\", \"when\", \"when's\", \"where\", \"where's\", \"which\", \"while\", \"who\", \"who's\", \"whom\", \"why\", \"why's\", \"with\", \"would\", \"you\", \"you'd\", \"you'll\", \"you're\", \"you've\", \"your\", \"yours\", \"yourself\", \"yourselves\" ]\n",
    "    val = [letter for letter in text.lower().split() if letter not in stopwords]\n",
    "    return ' '.join(val)"
   ]
  },
  {
   "cell_type": "code",
   "execution_count": 91,
   "id": "4445b7be",
   "metadata": {},
   "outputs": [],
   "source": [
    "#Seperating labels and features.\n",
    "X = [filter(note) for note in df.overview]\n",
    "Y = df.vote_average.to_numpy()"
   ]
  },
  {
   "cell_type": "code",
   "execution_count": 92,
   "id": "53942333",
   "metadata": {},
   "outputs": [
    {
     "data": {
      "text/plain": [
       "[\"attempt save family inadvertently alters future, barry allen becomes trapped reality general zod returned no super heroes turn to. order save world return future knows, barry's hope race life. will making ultimate sacrifice enough reset universe?\",\n",
       " 'barbie ken time lives colorful seemingly perfect world barbie land. however, get chance go real world, soon discover joys perils living among humans.']"
      ]
     },
     "execution_count": 92,
     "metadata": {},
     "output_type": "execute_result"
    }
   ],
   "source": [
    "X[:2]"
   ]
  },
  {
   "cell_type": "code",
   "execution_count": 93,
   "id": "f1af692b",
   "metadata": {},
   "outputs": [],
   "source": [
    "#Tokenizing reviews and creating a matrix from them.\n",
    "tokenizer.fit_on_texts(X)\n",
    "sequences = tokenizer.texts_to_sequences(X)\n",
    "matrix = pad_sequences(sequences,padding='post',truncating='post',maxlen=16)"
   ]
  },
  {
   "cell_type": "code",
   "execution_count": 94,
   "id": "b7f8f618",
   "metadata": {},
   "outputs": [
    {
     "data": {
      "text/plain": [
       "array([[  256,    36,     8,  1513,  9549,   121,  3824,  3825,    34,\n",
       "          293,   433,   854, 11881,  1601,    63,   434],\n",
       "       [  936,  3600,    17,    42,  3187,   532,   305,     6,   936,\n",
       "          248,    87,    28,   199,    75,   138,     6]])"
      ]
     },
     "execution_count": 94,
     "metadata": {},
     "output_type": "execute_result"
    }
   ],
   "source": [
    "matrix[:2]"
   ]
  },
  {
   "cell_type": "code",
   "execution_count": 95,
   "id": "81b3ab69",
   "metadata": {},
   "outputs": [],
   "source": [
    "#Seperating features and labels to train and valid.\n",
    "xtr , xts , ytr , yts = train_test_split(matrix,Y,test_size=0.2,random_state=42)"
   ]
  },
  {
   "cell_type": "code",
   "execution_count": 96,
   "id": "4fa8dc71",
   "metadata": {},
   "outputs": [
    {
     "name": "stdout",
     "output_type": "stream",
     "text": [
      "Train datas are : 7967\n",
      "Test datas are :1992\n"
     ]
    }
   ],
   "source": [
    "message = f'Train datas are : {len(xtr)}\\nTest datas are :{len(xts)}'\n",
    "print(message)"
   ]
  },
  {
   "cell_type": "code",
   "execution_count": 97,
   "id": "12e878f0",
   "metadata": {},
   "outputs": [],
   "source": [
    "#Defining a model by a function.\n",
    "def Model(optm,Loss,metric)->None:\n",
    "    '''function docstring'''\n",
    "    model = models.Sequential([layers.Flatten(),\n",
    "                               layers.Dense(4,activation='relu'),\n",
    "                              layers.Dense(1,activation='linear')])\n",
    "    model.compile(optimizer=optm,\n",
    "                 loss=Loss,\n",
    "                 metrics=[metric])\n",
    "    return model"
   ]
  },
  {
   "cell_type": "code",
   "execution_count": 98,
   "id": "0c986f92",
   "metadata": {},
   "outputs": [],
   "source": [
    "#Creating a class for calling callback.\n",
    "class Stop(Callback) :\n",
    "    def on_epoch_end(self,epoch,logs=dict()) :\n",
    "        if (logs.get('val_loss')<2):\n",
    "            print('Validation mean squared error is lower than 2 , so stop train.')\n",
    "            self.model.stop_training = True\n",
    "call = Stop()"
   ]
  },
  {
   "cell_type": "code",
   "execution_count": 99,
   "id": "9b7a2a39",
   "metadata": {},
   "outputs": [
    {
     "name": "stdout",
     "output_type": "stream",
     "text": [
      "Epoch 1/200\n",
      "249/249 [==============================] - 39s 1ms/step - loss: 12024935.0000 - mae: 2135.3228 - val_loss: 2758284.2500 - val_mae: 999.8787\n",
      "Epoch 2/200\n",
      "249/249 [==============================] - 0s 1ms/step - loss: 1065349.3750 - mae: 498.3634 - val_loss: 149578.0156 - val_mae: 159.0662\n",
      "Epoch 3/200\n",
      "249/249 [==============================] - 0s 958us/step - loss: 59264.0273 - mae: 74.6726 - val_loss: 7247.0073 - val_mae: 19.3483\n",
      "Epoch 4/200\n",
      "249/249 [==============================] - 0s 946us/step - loss: 4606.4946 - mae: 12.2308 - val_loss: 514.1098 - val_mae: 6.5381\n",
      "Epoch 5/200\n",
      "249/249 [==============================] - 0s 1ms/step - loss: 1338.3447 - mae: 6.8242 - val_loss: 184.1067 - val_mae: 6.9685\n",
      "Epoch 6/200\n",
      "249/249 [==============================] - 0s 1ms/step - loss: 557.4431 - mae: 5.6595 - val_loss: 63.3303 - val_mae: 5.0398\n",
      "Epoch 7/200\n",
      "249/249 [==============================] - 0s 1ms/step - loss: 247.1900 - mae: 4.7665 - val_loss: 20.9962 - val_mae: 3.7530\n",
      "Epoch 8/200\n",
      "249/249 [==============================] - 0s 1ms/step - loss: 147.9919 - mae: 4.0204 - val_loss: 12.6684 - val_mae: 3.0617\n",
      "Epoch 9/200\n",
      "249/249 [==============================] - 0s 1ms/step - loss: 97.1575 - mae: 3.3377 - val_loss: 10.5407 - val_mae: 2.9064\n",
      "Epoch 10/200\n",
      "249/249 [==============================] - 0s 990us/step - loss: 58.4707 - mae: 2.6704 - val_loss: 6.5829 - val_mae: 2.1819\n",
      "Epoch 11/200\n",
      "249/249 [==============================] - 0s 1ms/step - loss: 35.0129 - mae: 2.2728 - val_loss: 7.6406 - val_mae: 2.1443\n",
      "Epoch 12/200\n",
      "249/249 [==============================] - 0s 991us/step - loss: 15.0506 - mae: 2.1129 - val_loss: 5.9175 - val_mae: 2.0814\n",
      "Epoch 13/200\n",
      "249/249 [==============================] - 0s 1ms/step - loss: 7.2748 - mae: 2.0124 - val_loss: 5.7514 - val_mae: 2.0734\n",
      "Epoch 14/200\n",
      "249/249 [==============================] - 0s 1ms/step - loss: 5.4319 - mae: 1.9162 - val_loss: 4.9194 - val_mae: 1.8688\n",
      "Epoch 15/200\n",
      "249/249 [==============================] - 0s 1ms/step - loss: 5.0538 - mae: 1.8392 - val_loss: 4.5270 - val_mae: 1.7132\n",
      "Epoch 16/200\n",
      "249/249 [==============================] - 0s 945us/step - loss: 4.6938 - mae: 1.7699 - val_loss: 4.1906 - val_mae: 1.7024\n",
      "Epoch 17/200\n",
      "249/249 [==============================] - 0s 963us/step - loss: 4.3688 - mae: 1.6979 - val_loss: 3.8259 - val_mae: 1.5755\n",
      "Epoch 18/200\n",
      "249/249 [==============================] - 0s 1ms/step - loss: 4.0370 - mae: 1.6251 - val_loss: 3.7262 - val_mae: 1.6047\n",
      "Epoch 19/200\n",
      "249/249 [==============================] - 0s 883us/step - loss: 3.6958 - mae: 1.5480 - val_loss: 3.5503 - val_mae: 1.4751\n",
      "Epoch 20/200\n",
      "249/249 [==============================] - 0s 819us/step - loss: 3.4169 - mae: 1.4790 - val_loss: 4.0389 - val_mae: 1.7535\n",
      "Epoch 21/200\n",
      "249/249 [==============================] - 0s 969us/step - loss: 3.1679 - mae: 1.4132 - val_loss: 2.8302 - val_mae: 1.3513\n",
      "Epoch 22/200\n",
      "249/249 [==============================] - 0s 907us/step - loss: 2.8994 - mae: 1.3371 - val_loss: 2.6723 - val_mae: 1.2626\n",
      "Epoch 23/200\n",
      "249/249 [==============================] - 0s 1ms/step - loss: 2.6826 - mae: 1.2808 - val_loss: 2.3807 - val_mae: 1.1946\n",
      "Epoch 24/200\n",
      "249/249 [==============================] - 0s 1ms/step - loss: 2.5084 - mae: 1.2259 - val_loss: 2.2189 - val_mae: 1.1501\n",
      "Epoch 25/200\n",
      "249/249 [==============================] - 0s 993us/step - loss: 2.3122 - mae: 1.1668 - val_loss: 2.0721 - val_mae: 1.0838\n",
      "Epoch 26/200\n",
      "230/249 [==========================>...] - ETA: 0s - loss: 2.1448 - mae: 1.1039Validation mean squared error is lower than 2 , so stop train.\n",
      "249/249 [==============================] - 0s 963us/step - loss: 2.1621 - mae: 1.1060 - val_loss: 1.9460 - val_mae: 1.0520\n"
     ]
    }
   ],
   "source": [
    "#datas train.\n",
    "history = Model('rmsprop','mse','mae').fit(xtr,ytr,epochs=200,validation_data = (xts,yts),callbacks=call)"
   ]
  },
  {
   "cell_type": "code",
   "execution_count": 100,
   "id": "a1757096",
   "metadata": {},
   "outputs": [
    {
     "data": {
      "image/png": "[encoded data removed]",
      "text/plain": [
       "<Figure size 640x480 with 1 Axes>"
      ]
     },
     "metadata": {},
     "output_type": "display_data"
    },
    {
     "data": {
      "image/png": "[encoded data removed]",
      "text/plain": [
       "<Figure size 640x480 with 1 Axes>"
      ]
     },
     "metadata": {},
     "output_type": "display_data"
    }
   ],
   "source": [
    "#Visualize models performance\n",
    "epoch = range(1,len(history.epoch)+1)\n",
    "results = history.history\n",
    "plt.plot(epoch,results['mae'],'blue')\n",
    "plt.plot(epoch,results['val_mae'],'red')\n",
    "plt.xlabel('Epochs')\n",
    "plt.ylabel('mae')\n",
    "plt.title('English_movies')\n",
    "plt.show()\n",
    "plt.plot(epoch,results['loss'],'blue')\n",
    "plt.plot(epoch,results['val_loss'],'red')\n",
    "plt.xlabel('Epochs')\n",
    "plt.ylabel('Loss')\n",
    "plt.title('English_movies')\n",
    "plt.show()"
   ]
  },
  {
   "cell_type": "code",
   "execution_count": null,
   "id": "ae4f6cbc",
   "metadata": {},
   "outputs": [],
   "source": []
  }
 ],
 "metadata": {
  "kernelspec": {
   "display_name": "Python 3 (ipykernel)",
   "language": "python",
   "name": "python3"
  },
  "language_info": {
   "codemirror_mode": {
    "name": "ipython",
    "version": 3
   },
   "file_extension": ".py",
   "mimetype": "text/x-python",
   "name": "python",
   "nbconvert_exporter": "python",
   "pygments_lexer": "ipython3",
   "version": "3.9.13"
  }
 },
 "nbformat": 4,
 "nbformat_minor": 5
}
